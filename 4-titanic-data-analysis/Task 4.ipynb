{
 "cells": [
  {
   "cell_type": "code",
   "execution_count": 1,
   "id": "b0a2742d-70c8-40c2-9076-532d44c8f84e",
   "metadata": {},
   "outputs": [],
   "source": [
    "import pandas as pd"
   ]
  },
  {
   "cell_type": "code",
   "execution_count": 2,
   "id": "74ac76ec-59c8-4c42-b0f7-a0296c8283c6",
   "metadata": {},
   "outputs": [
    {
     "name": "stdout",
     "output_type": "stream",
     "text": [
      " First 5 Rows:\n",
      "   PassengerId  Survived  Pclass  \\\n",
      "0            1         0       3   \n",
      "1            2         1       1   \n",
      "2            3         1       3   \n",
      "3            4         1       1   \n",
      "4            5         0       3   \n",
      "\n",
      "                                                Name     Sex   Age  SibSp  \\\n",
      "0                            Braund, Mr. Owen Harris    male  22.0      1   \n",
      "1  Cumings, Mrs. John Bradley (Florence Briggs Th...  female  38.0      1   \n",
      "2                             Heikkinen, Miss. Laina  female  26.0      0   \n",
      "3       Futrelle, Mrs. Jacques Heath (Lily May Peel)  female  35.0      1   \n",
      "4                           Allen, Mr. William Henry    male  35.0      0   \n",
      "\n",
      "   Parch            Ticket     Fare Cabin Embarked  \n",
      "0      0         A/5 21171   7.2500   NaN        S  \n",
      "1      0          PC 17599  71.2833   C85        C  \n",
      "2      0  STON/O2. 3101282   7.9250   NaN        S  \n",
      "3      0            113803  53.1000  C123        S  \n",
      "4      0            373450   8.0500   NaN        S  \n"
     ]
    }
   ],
   "source": [
    "df = pd.read_csv('Titanic-Dataset.csv')\n",
    "\n",
    "print(\" First 5 Rows:\")\n",
    "print(df.head())"
   ]
  },
  {
   "cell_type": "code",
   "execution_count": 3,
   "id": "ab189945-786e-40ad-a0bd-5205c368f12b",
   "metadata": {},
   "outputs": [
    {
     "name": "stdout",
     "output_type": "stream",
     "text": [
      "\n",
      " Summary Statistics:\n",
      "       PassengerId    Survived      Pclass         Age       SibSp  \\\n",
      "count   891.000000  891.000000  891.000000  714.000000  891.000000   \n",
      "mean    446.000000    0.383838    2.308642   29.699118    0.523008   \n",
      "std     257.353842    0.486592    0.836071   14.526497    1.102743   \n",
      "min       1.000000    0.000000    1.000000    0.420000    0.000000   \n",
      "25%     223.500000    0.000000    2.000000   20.125000    0.000000   \n",
      "50%     446.000000    0.000000    3.000000   28.000000    0.000000   \n",
      "75%     668.500000    1.000000    3.000000   38.000000    1.000000   \n",
      "max     891.000000    1.000000    3.000000   80.000000    8.000000   \n",
      "\n",
      "            Parch        Fare  \n",
      "count  891.000000  891.000000  \n",
      "mean     0.381594   32.204208  \n",
      "std      0.806057   49.693429  \n",
      "min      0.000000    0.000000  \n",
      "25%      0.000000    7.910400  \n",
      "50%      0.000000   14.454200  \n",
      "75%      0.000000   31.000000  \n",
      "max      6.000000  512.329200  \n"
     ]
    }
   ],
   "source": [
    "print(\"\\n Summary Statistics:\")\n",
    "print(df.describe())"
   ]
  },
  {
   "cell_type": "code",
   "execution_count": 4,
   "id": "361d845d-1f78-40e0-8c7d-ccf825b2f6e6",
   "metadata": {},
   "outputs": [
    {
     "name": "stdout",
     "output_type": "stream",
     "text": [
      "\n",
      " Selected Columns (Name, Age, Survived):\n",
      "                                                Name   Age  Survived\n",
      "0                            Braund, Mr. Owen Harris  22.0         0\n",
      "1  Cumings, Mrs. John Bradley (Florence Briggs Th...  38.0         1\n",
      "2                             Heikkinen, Miss. Laina  26.0         1\n",
      "3       Futrelle, Mrs. Jacques Heath (Lily May Peel)  35.0         1\n",
      "4                           Allen, Mr. William Henry  35.0         0\n"
     ]
    }
   ],
   "source": [
    "print(\"\\n Selected Columns (Name, Age, Survived):\")\n",
    "print(df[['Name', 'Age', 'Survived']].head())"
   ]
  },
  {
   "cell_type": "code",
   "execution_count": 5,
   "id": "a899a738-1540-4b8f-9746-2b57f1700a60",
   "metadata": {},
   "outputs": [
    {
     "name": "stdout",
     "output_type": "stream",
     "text": [
      "\n",
      " Missing Values Before:\n",
      "PassengerId      0\n",
      "Survived         0\n",
      "Pclass           0\n",
      "Name             0\n",
      "Sex              0\n",
      "Age            177\n",
      "SibSp            0\n",
      "Parch            0\n",
      "Ticket           0\n",
      "Fare             0\n",
      "Cabin          687\n",
      "Embarked         2\n",
      "dtype: int64\n"
     ]
    }
   ],
   "source": [
    "print(\"\\n Missing Values Before:\")\n",
    "print(df.isnull().sum())\n"
   ]
  },
  {
   "cell_type": "code",
   "execution_count": 6,
   "id": "cff9c689-1a5b-4a42-9a69-9e70ae0bf875",
   "metadata": {},
   "outputs": [],
   "source": [
    "df['Age'] = df['Age'].fillna(df['Age'].median())\n",
    "df = df.dropna(subset=['Embarked'])\n",
    "df = df.drop_duplicates()"
   ]
  },
  {
   "cell_type": "code",
   "execution_count": 7,
   "id": "50df25ec-dbf7-401a-af51-2bf91aac9844",
   "metadata": {},
   "outputs": [
    {
     "name": "stdout",
     "output_type": "stream",
     "text": [
      "\n",
      " Passengers older than 50:\n",
      "                                                  Name   Age  Survived\n",
      "6                              McCarthy, Mr. Timothy J  54.0         0\n",
      "11                            Bonnell, Miss. Elizabeth  58.0         1\n",
      "15                    Hewlett, Mrs. (Mary D Kingcome)   55.0         1\n",
      "33                               Wheadon, Mr. Edward H  66.0         0\n",
      "54                      Ostby, Mr. Engelhart Cornelius  65.0         0\n",
      "..                                                 ...   ...       ...\n",
      "774              Hocking, Mrs. Elizabeth (Eliza Needs)  54.0         1\n",
      "820  Hays, Mrs. Charles Melville (Clara Jennings Gr...  52.0         1\n",
      "851                                Svensson, Mr. Johan  74.0         0\n",
      "857                             Daly, Mr. Peter Denis   51.0         1\n",
      "879      Potter, Mrs. Thomas Jr (Lily Alexenia Wilson)  56.0         1\n",
      "\n",
      "[63 rows x 3 columns]\n"
     ]
    }
   ],
   "source": [
    "older_passengers = df[df['Age'] > 50]\n",
    "print(\"\\n Passengers older than 50:\")\n",
    "print(older_passengers[['Name', 'Age', 'Survived']])"
   ]
  },
  {
   "cell_type": "code",
   "execution_count": 8,
   "id": "8fb94538-699e-49fb-a75e-da22cf97b0ce",
   "metadata": {},
   "outputs": [
    {
     "name": "stdout",
     "output_type": "stream",
     "text": [
      "\n",
      " Grouped by Pclass (Average Age and Survival Rate):\n",
      "              Age  Survived\n",
      "Pclass                     \n",
      "1       36.688879  0.626168\n",
      "2       29.765380  0.472826\n",
      "3       25.932627  0.242363\n"
     ]
    }
   ],
   "source": [
    "grouped = df.groupby('Pclass').agg({\n",
    "    'Age': 'mean',\n",
    "    'Survived': 'mean'\n",
    "})\n",
    "print(\"\\n Grouped by Pclass (Average Age and Survival Rate):\")\n",
    "print(grouped)"
   ]
  },
  {
   "cell_type": "code",
   "execution_count": 9,
   "id": "7ca9dcf2-a1ff-4523-802f-d824cea7b874",
   "metadata": {},
   "outputs": [],
   "source": [
    "# Simulate merging with another dataset (e.g., passenger contact info)\n",
    "contact_info = pd.DataFrame({\n",
    "    'PassengerId': [1, 2, 3, 4, 5],\n",
    "    'Email': ['a@x.com', 'b@x.com', 'c@x.com', 'd@x.com', 'e@x.com']\n",
    "})"
   ]
  },
  {
   "cell_type": "code",
   "execution_count": 10,
   "id": "447abb46-155c-4692-b30f-1287de81bd25",
   "metadata": {},
   "outputs": [
    {
     "name": "stdout",
     "output_type": "stream",
     "text": [
      "\n",
      " Merged Dataset Sample:\n",
      "   PassengerId                                               Name    Email\n",
      "0            1                            Braund, Mr. Owen Harris  a@x.com\n",
      "1            2  Cumings, Mrs. John Bradley (Florence Briggs Th...  b@x.com\n",
      "2            3                             Heikkinen, Miss. Laina  c@x.com\n",
      "3            4       Futrelle, Mrs. Jacques Heath (Lily May Peel)  d@x.com\n",
      "4            5                           Allen, Mr. William Henry  e@x.com\n"
     ]
    }
   ],
   "source": [
    "# Merge datasets on PassengerId\n",
    "merged_df = pd.merge(df, contact_info, on='PassengerId', how='left')\n",
    "\n",
    "print(\"\\n Merged Dataset Sample:\")\n",
    "print(merged_df[['PassengerId', 'Name', 'Email']].head())"
   ]
  },
  {
   "cell_type": "code",
   "execution_count": null,
   "id": "ae6bb4af-8f73-4e08-bf30-03d5002a0330",
   "metadata": {},
   "outputs": [],
   "source": []
  }
 ],
 "metadata": {
  "kernelspec": {
   "display_name": "Python 3 (ipykernel)",
   "language": "python",
   "name": "python3"
  },
  "language_info": {
   "codemirror_mode": {
    "name": "ipython",
    "version": 3
   },
   "file_extension": ".py",
   "mimetype": "text/x-python",
   "name": "python",
   "nbconvert_exporter": "python",
   "pygments_lexer": "ipython3",
   "version": "3.11.5"
  }
 },
 "nbformat": 4,
 "nbformat_minor": 5
}
