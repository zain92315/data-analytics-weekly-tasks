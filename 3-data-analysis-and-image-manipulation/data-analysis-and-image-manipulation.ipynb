{
 "cells": [
  {
   "cell_type": "code",
   "execution_count": 1,
   "id": "6e0c8ddb-27aa-427f-9e08-df0b49c15c65",
   "metadata": {},
   "outputs": [],
   "source": [
    "import numpy as np\n",
    "import pandas as pd\n",
    "from PIL import Image"
   ]
  },
  {
   "cell_type": "code",
   "execution_count": 2,
   "id": "35596ec3-a15e-45e4-b526-4b70e826588c",
   "metadata": {},
   "outputs": [
    {
     "name": "stdout",
     "output_type": "stream",
     "text": [
      "=== Beginner Level ===\n",
      "Addition: [5 7 9]\n",
      "Multiplication: [ 4 10 18]\n",
      "Mean: 30.0\n",
      "Median: 30.0\n",
      "Standard Deviation: 14.142135623730951\n"
     ]
    }
   ],
   "source": [
    "print(\"=== Beginner Level ===\")\n",
    "\n",
    "# Basic NumPy Arrays and Arithmetic\n",
    "a = np.array([1, 2, 3])\n",
    "b = np.array([4, 5, 6])\n",
    "print(\"Addition:\", a + b)\n",
    "print(\"Multiplication:\", a * b)\n",
    "\n",
    "# Basic Statistics\n",
    "data = np.array([10, 20, 30, 40, 50])\n",
    "print(\"Mean:\", np.mean(data))\n",
    "print(\"Median:\", np.median(data))\n",
    "print(\"Standard Deviation:\", np.std(data))"
   ]
  },
  {
   "cell_type": "code",
   "execution_count": 3,
   "id": "04a1ff2f-1a50-41a2-af23-838d7cdf9ffa",
   "metadata": {},
   "outputs": [
    {
     "name": "stdout",
     "output_type": "stream",
     "text": [
      "\n",
      "=== Intermediate Level ===\n",
      "Loaded CSV as NumPy array:\n",
      " [[ 66 107 277]\n",
      " [ 55 141 244]\n",
      " [ 26 194 246]\n",
      " ...\n",
      " [ 14 194 272]\n",
      " [ 22 122 229]\n",
      " [ 55 156 251]]\n",
      "Element-wise square:\n",
      " [[ 4356 11449 76729]\n",
      " [ 3025 19881 59536]\n",
      " [  676 37636 60516]\n",
      " ...\n",
      " [  196 37636 73984]\n",
      " [  484 14884 52441]\n",
      " [ 3025 24336 63001]]\n",
      "Sum of all elements: 448154\n",
      "Mean per column: [ 48.916 148.973 250.265]\n",
      "Grayscale conversion (3x3 RGB):\n",
      " [[ 76 149  29]\n",
      " [110  87  51]\n",
      " [200  90  65]]\n"
     ]
    }
   ],
   "source": [
    "print(\"\\n=== Intermediate Level ===\")\n",
    "\n",
    "\n",
    "try:\n",
    "    df = pd.read_csv(\"data.csv\")\n",
    "    arr = df.to_numpy()\n",
    "    print(\"Loaded CSV as NumPy array:\\n\", arr)\n",
    "\n",
    "    # Element-wise operations\n",
    "    print(\"Element-wise square:\\n\", arr ** 2)\n",
    "    print(\"Sum of all elements:\", np.sum(arr))\n",
    "    print(\"Mean per column:\", np.mean(arr, axis=0))\n",
    "\n",
    "except FileNotFoundError:\n",
    "    print(\"CSV file 'data.csv' not found. Skipping CSV part.\")\n",
    "\n",
    "# RGB to Grayscale on 3x3 sample\n",
    "rgb_image = np.array([\n",
    "    [[255, 0, 0], [0, 255, 0], [0, 0, 255]],\n",
    "    [[125, 125, 0], [0, 125, 125], [125, 0, 125]],\n",
    "    [[200, 200, 200], [50, 100, 150], [25, 75, 125]]\n",
    "])\n",
    "grayscale = (0.299 * rgb_image[:, :, 0] +\n",
    "             0.587 * rgb_image[:, :, 1] +\n",
    "             0.114 * rgb_image[:, :, 2])\n",
    "print(\"Grayscale conversion (3x3 RGB):\\n\", grayscale.astype(int))\n"
   ]
  },
  {
   "cell_type": "code",
   "execution_count": 4,
   "id": "fbb25b0c-3765-4970-bbb6-e80b192b0a6e",
   "metadata": {},
   "outputs": [
    {
     "name": "stdout",
     "output_type": "stream",
     "text": [
      "\n",
      "=== Advanced Level ===\n",
      "Matrix Multiplication:\n",
      " [[ 4  4]\n",
      " [10  8]]\n"
     ]
    }
   ],
   "source": [
    "print(\"\\n=== Advanced Level ===\")\n",
    "\n",
    "# Matrix multiplication\n",
    "A = np.array([[1, 2], [3, 4]])\n",
    "B = np.array([[2, 0], [1, 2]])\n",
    "result = np.matmul(A, B)\n",
    "print(\"Matrix Multiplication:\\n\", result)"
   ]
  },
  {
   "cell_type": "code",
   "execution_count": 5,
   "id": "83eed8f1-d396-450d-a63a-e8db694bb076",
   "metadata": {},
   "outputs": [
    {
     "name": "stdout",
     "output_type": "stream",
     "text": [
      "Broadcasting (add vector to rows):\n",
      " [[11 22]\n",
      " [13 24]]\n"
     ]
    }
   ],
   "source": [
    "# Broadcasting example\n",
    "matrix = np.array([[1, 2], [3, 4]])\n",
    "vector = np.array([10, 20])\n",
    "print(\"Broadcasting (add vector to rows):\\n\", matrix + vector)"
   ]
  },
  {
   "cell_type": "code",
   "execution_count": 7,
   "id": "5e963524-d2ef-4fea-88e1-a4f50c7f3a8c",
   "metadata": {},
   "outputs": [],
   "source": [
    "# Image to Grayscale and Blurring\n",
    "try:\n",
    "    img = Image.open(\"sample.jpg\").resize((100, 100))  # Resize for speed\n",
    "    img_np = np.array(img)\n",
    "\n",
    "    if img_np.ndim == 3 and img_np.shape[2] == 3:\n",
    "        gray = (0.299 * img_np[:, :, 0] +\n",
    "                0.587 * img_np[:, :, 1] +\n",
    "                0.114 * img_np[:, :, 2]).astype(np.uint8)\n",
    "\n",
    "        gray_img = Image.fromarray(gray)\n",
    "        gray_img.show()  # Display grayscale image\n",
    "\n",
    "# Blurring\n",
    "        def blur_image(image):\n",
    "            kernel = np.ones((3, 3)) / 9\n",
    "            padded = np.pad(image, ((1, 1), (1, 1)), mode='edge')\n",
    "            blurred = np.zeros_like(image)\n",
    "\n",
    "            for i in range(image.shape[0]):\n",
    "                for j in range(image.shape[1]):\n",
    "                    blurred[i, j] = np.sum(padded[i:i+3, j:j+3] * kernel)\n",
    "            return blurred.astype(np.uint8)\n",
    "\n",
    "        blurred = blur_image(gray)\n",
    "        blurred_img = Image.fromarray(blurred)\n",
    "        blurred_img.show()  # Display blurred image\n",
    "    else:\n",
    "        print(\"Image is not RGB format.\")\n",
    "except FileNotFoundError:\n",
    "    print(\"Image file 'sample.jpg' not found. Skipping image processing.\")\n"
   ]
  },
  {
   "cell_type": "code",
   "execution_count": null,
   "id": "c59489ed-e5a5-4a3e-b6cb-0566c0e08792",
   "metadata": {},
   "outputs": [],
   "source": []
  }
 ],
 "metadata": {
  "kernelspec": {
   "display_name": "Python 3 (ipykernel)",
   "language": "python",
   "name": "python3"
  },
  "language_info": {
   "codemirror_mode": {
    "name": "ipython",
    "version": 3
   },
   "file_extension": ".py",
   "mimetype": "text/x-python",
   "name": "python",
   "nbconvert_exporter": "python",
   "pygments_lexer": "ipython3",
   "version": "3.11.5"
  }
 },
 "nbformat": 4,
 "nbformat_minor": 5
}
